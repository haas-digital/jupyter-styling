{
 "cells": [
  {
   "cell_type": "markdown",
   "metadata": {},
   "source": [
    "# Title\n",
    "\n",
    "## subtitle\n",
    " \n",
    " 1. Bullet one\n",
    " 2. Bullet two\n",
    " \n",
    "Lorem ipsum dolor sit amet, consectetur adipiscing elit. Phasellus lacus justo, volutpat id lacus a, sollicitudin malesuada enim. Orci varius natoque penatibus et magnis dis parturient montes, nascetur ridiculus mus. Nam ut lacus et enim gravida facilisis. Maecenas ultrices nulla id odio venenatis mollis. Donec fermentum massa ac tortor malesuada rutrum. Proin rutrum ipsum non rutrum posuere. Pellentesque nec tellus id dolor dictum tempor. Quisque eu semper orci. In elementum nulla eu leo tempor venenatis. Fusce mollis justo vitae orci semper, ut placerat lectus elementum. Morbi dolor mi, vestibulum quis nisl nec, mollis maximus velit. \n",
    " \n",
    " [A link](https://duckduckgo.com)\n",
    " \n",
    " "
   ]
  },
  {
   "cell_type": "code",
   "execution_count": 3,
   "metadata": {},
   "outputs": [],
   "source": [
    "# a comment\n",
    "x = 9\n",
    "\n",
    "def function1(x, y, z):\n",
    "    for i in x:\n",
    "        if i >= 6:\n",
    "            return \"a string\"\n",
    "    else:\n",
    "        print(\"another string\")\n",
    "    "
   ]
  },
  {
   "cell_type": "code",
   "execution_count": null,
   "metadata": {},
   "outputs": [],
   "source": []
  }
 ],
 "metadata": {
  "kernelspec": {
   "display_name": "Python 3",
   "language": "python",
   "name": "python3"
  },
  "language_info": {
   "codemirror_mode": {
    "name": "ipython",
    "version": 3
   },
   "file_extension": ".py",
   "mimetype": "text/x-python",
   "name": "python",
   "nbconvert_exporter": "python",
   "pygments_lexer": "ipython3",
   "version": "3.8.8"
  }
 },
 "nbformat": 4,
 "nbformat_minor": 4
}
